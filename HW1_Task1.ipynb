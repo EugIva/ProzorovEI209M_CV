{
  "nbformat": 4,
  "nbformat_minor": 0,
  "metadata": {
    "colab": {
      "provenance": [],
      "authorship_tag": "ABX9TyOsDTjrX4IbpDHf7ZUcqbn1",
      "include_colab_link": true
    },
    "kernelspec": {
      "name": "python3",
      "display_name": "Python 3"
    },
    "language_info": {
      "name": "python"
    }
  },
  "cells": [
    {
      "cell_type": "markdown",
      "metadata": {
        "id": "view-in-github",
        "colab_type": "text"
      },
      "source": [
        "<a href=\"https://colab.research.google.com/github/EugIva/ProzorovEI209M_CV/blob/main/HW1_Task1.ipynb\" target=\"_parent\"><img src=\"https://colab.research.google.com/assets/colab-badge.svg\" alt=\"Open In Colab\"/></a>"
      ]
    },
    {
      "cell_type": "code",
      "execution_count": 17,
      "metadata": {
        "id": "h-h9K3Ti30N0"
      },
      "outputs": [],
      "source": [
        "import cv2\n",
        "import numpy as np\n",
        "from collections import deque\n",
        "\n",
        "def find_way_from_maze(image: np.ndarray) -> tuple:\n",
        "    # имг в бинарное (0 - стена, 255 - путь)\n",
        "    gray = cv2.cvtColor(image, cv2.COLOR_BGR2GRAY)\n",
        "    _, thresh = cv2.threshold(gray, 0, 255, cv2.THRESH_BINARY_INV + cv2.THRESH_OTSU)\n",
        "\n",
        "    # вход и выход из лабиринта\n",
        "    entrance = None\n",
        "    exit = None\n",
        "    for i in range(thresh.shape[1]):\n",
        "        if thresh[0, i] == 255:\n",
        "            entrance = (0, i)\n",
        "            break\n",
        "    for i in range(thresh.shape[1]):\n",
        "        if thresh[thresh.shape[0] - 1, i] == 255:\n",
        "            exit = (thresh.shape[0] - 1, i)\n",
        "            break\n",
        "\n",
        "    if entrance is None or exit is None:\n",
        "        return None\n",
        "\n",
        "    # очередь для поиска в ширину\n",
        "    queue = deque([(entrance, [entrance])])\n",
        "\n",
        "    # матрица для хранения посещенных точек\n",
        "    visited = np.zeros(thresh.shape, dtype=bool)\n",
        "\n",
        "    while queue:\n",
        "        (x, y), path = queue.popleft()\n",
        "        if (x, y) == exit:\n",
        "            return np.array(path)\n",
        "\n",
        "        # Пометить точку как посещенную\n",
        "        visited[x, y] = True\n",
        "\n",
        "        # Добавить соседние точки в очередь\n",
        "        for dx, dy in [(-1, 0), (1, 0), (0, -1), (0, 1)]:\n",
        "            nx, ny = x + dx, y + dy\n",
        "            if (0 <= nx < thresh.shape[0] and 0 <= ny < thresh.shape[1] and\n",
        "                    thresh[nx, ny] == 255 and not visited[nx, ny]):\n",
        "                queue.append(((nx, ny), path + [(nx, ny)]))\n",
        "\n",
        "    # путь не найден\n",
        "    return None"
      ]
    },
    {
      "cell_type": "code",
      "source": [
        "import cv2\n",
        "import numpy as np\n",
        "\n",
        "import matplotlib.pyplot as plt\n",
        "%matplotlib inline\n",
        "def plot_one_image(image: np.ndarray) -> None:\n",
        "    \"\"\"\n",
        "    Отобразить изображение с помощью matplotlib.\n",
        "    Вспомогательная функция.\n",
        "\n",
        "    :param image: изображение для отображения\n",
        "    :return: None\n",
        "    \"\"\"\n",
        "    fig, axs = plt.subplots(1, 1, figsize=(8, 7))\n",
        "\n",
        "    axs.imshow(image)\n",
        "    axs.axis('off')\n",
        "    plt.plot()"
      ],
      "metadata": {
        "id": "Lk5Ucl664E_C"
      },
      "execution_count": 4,
      "outputs": []
    },
    {
      "cell_type": "code",
      "source": [
        "def plot_maze_path(image: np.ndarray, coords: np.ndarray) -> np.ndarray:\n",
        "    img_wpath = image.copy()\n",
        "    if coords.size > 0:  # Проверка на наличие координат\n",
        "        for coord in coords:\n",
        "            x, y = coord\n",
        "            img_wpath[x, y, :] = [255, 0, 0]  # Рисуем путь красного цвета\n",
        "    return img_wpath"
      ],
      "metadata": {
        "id": "KG0ZvxBe4Go9"
      },
      "execution_count": 5,
      "outputs": []
    },
    {
      "cell_type": "code",
      "source": [
        "test_image = cv2.imread('20 by 20 orthogonal maze.png')  # загрузить тестовую картинку\n",
        "\n",
        "plot_one_image(test_image)\n",
        "\n",
        "way_coords = find_way_from_maze(test_image)  # вычислить координаты пути через лабиринт.\n",
        "\n",
        "image_with_way = plot_maze_path(test_image, way_coords)\n",
        "\n",
        "plot_one_image(image_with_way)"
      ],
      "metadata": {
        "colab": {
          "base_uri": "https://localhost:8080/",
          "height": 576
        },
        "id": "iRPsKcTu4IGH",
        "outputId": "da3e182d-f0d5-4ad1-84cb-d912cc72dee0"
      },
      "execution_count": null,
      "outputs": [
        {
          "output_type": "display_data",
          "data": {
            "text/plain": [
              "<Figure size 800x700 with 1 Axes>"
            ],
            "image/png": "[encoded data removed]"
          },
          "metadata": {}
        }
      ]
    }
  ]
}